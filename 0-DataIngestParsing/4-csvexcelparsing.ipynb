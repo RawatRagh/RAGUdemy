{
 "cells": [
  {
   "cell_type": "markdown",
   "id": "311be98b",
   "metadata": {},
   "source": [
    "### CSV And EXcel files- Structured Data"
   ]
  },
  {
   "cell_type": "code",
   "execution_count": 1,
   "id": "9b71c886",
   "metadata": {},
   "outputs": [],
   "source": [
    "import pandas as pd\n",
    "import os"
   ]
  },
  {
   "cell_type": "markdown",
   "id": "2ddca70b",
   "metadata": {},
   "source": []
  }
 ],
 "metadata": {
  "kernelspec": {
   "display_name": "RAGUdemy",
   "language": "python",
   "name": "python3"
  },
  "language_info": {
   "codemirror_mode": {
    "name": "ipython",
    "version": 3
   },
   "file_extension": ".py",
   "mimetype": "text/x-python",
   "name": "python",
   "nbconvert_exporter": "python",
   "pygments_lexer": "ipython3",
   "version": "3.13.2"
  }
 },
 "nbformat": 4,
 "nbformat_minor": 5
}
